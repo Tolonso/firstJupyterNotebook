{
 "cells": [
  {
   "cell_type": "markdown",
   "id": "2265dda6-0294-45b0-b8c0-0048cf51a71e",
   "metadata": {},
   "source": [
    "# Data Science Tools and Ecosystem"
   ]
  },
  {
   "cell_type": "markdown",
   "id": "bfe7bf83-71e8-481e-818c-43e8d53eaa25",
   "metadata": {},
   "source": [
    "### In this notebook, Data Science Tools and Ecosytem are summarized."
   ]
  },
  {
   "cell_type": "markdown",
   "id": "1190b5c4-3090-4bf0-afd0-5893fff07742",
   "metadata": {},
   "source": [
    "### **Objectives:**\n",
    "- Popular languages tha Data Scientists use\n",
    "- Commonly used libraries by Data Scientists\n",
    "- Data Science Tools\n",
    "- Arithmetic Expressions in Python"
   ]
  },
  {
   "cell_type": "markdown",
   "id": "33e4fb00-2ca1-4541-81f6-df3b2d26cc43",
   "metadata": {},
   "source": [
    "### **Some of the popular languages Data Scientists use are:**\n",
    "1. Python\n",
    "2. R\n",
    "3. Ruby\n",
    "4. VSCode"
   ]
  },
  {
   "cell_type": "markdown",
   "id": "d5b2bbc4-2fed-4fdc-b7c4-5b2f9bbe5dae",
   "metadata": {},
   "source": [
    "### **Some of the commonly used libraries used by Data Scientists include:**\n",
    "1. Pandas\n",
    "2. Numpy\n",
    "3. MatplotLib\n",
    "4. Pytorch"
   ]
  },
  {
   "cell_type": "markdown",
   "id": "d40ca827-777c-43d1-ad09-a88f537ba44a",
   "metadata": {},
   "source": [
    "### Data Science Tools\n",
    "\n",
    "| Data Science Tools | Usage |\n",
    "| -------------| ------ |\n",
    "| Python | Programming Language |\n",
    "| SQL | Data Structuring |\n",
    "| Tableau | Visualization |"
   ]
  },
  {
   "cell_type": "markdown",
   "id": "5997d7ee-7b34-4cfe-b0df-71c6e2eccb1a",
   "metadata": {},
   "source": [
    "### Below are a few examples of evaluating arithmetic expressions in Python\n",
    "\n",
    "- 3*2\n",
    "- 2^2\n",
    "- 5+10\n",
    "- 9-12"
   ]
  },
  {
   "cell_type": "code",
   "execution_count": 13,
   "id": "f894475f-7a4e-4561-bf38-4859d4fb8703",
   "metadata": {},
   "outputs": [
    {
     "data": {
      "text/plain": [
       "17"
      ]
     },
     "execution_count": 13,
     "metadata": {},
     "output_type": "execute_result"
    }
   ],
   "source": [
    "# This a simple arithmetic expression to multiply and then add integers\n",
    "(3*4)+5"
   ]
  },
  {
   "cell_type": "code",
   "execution_count": 15,
   "id": "39cdf7d4-8056-44e1-9e8b-d2fa548103b2",
   "metadata": {},
   "outputs": [
    {
     "name": "stdout",
     "output_type": "stream",
     "text": [
      "3.3333333333333335\n"
     ]
    }
   ],
   "source": [
    "# This will convert 200 minutes to hours by dividing by 60\n",
    "\n",
    "x = 200/60\n",
    "print (x)"
   ]
  },
  {
   "cell_type": "markdown",
   "id": "8b684f8e-8a8f-42a4-a65a-4bfded8f69c2",
   "metadata": {},
   "source": [
    "## Author\n",
    "Hector Lopez"
   ]
  },
  {
   "cell_type": "code",
   "execution_count": null,
   "id": "f9e753e4-b0b5-4c2b-ba2d-8a82fefb96bf",
   "metadata": {},
   "outputs": [],
   "source": []
  }
 ],
 "metadata": {
  "kernelspec": {
   "display_name": "Python 3 (ipykernel)",
   "language": "python",
   "name": "python3"
  },
  "language_info": {
   "codemirror_mode": {
    "name": "ipython",
    "version": 3
   },
   "file_extension": ".py",
   "mimetype": "text/x-python",
   "name": "python",
   "nbconvert_exporter": "python",
   "pygments_lexer": "ipython3",
   "version": "3.11.7"
  }
 },
 "nbformat": 4,
 "nbformat_minor": 5
}
